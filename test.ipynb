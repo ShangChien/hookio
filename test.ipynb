{
 "cells": [
  {
   "cell_type": "code",
   "execution_count": 10,
   "metadata": {},
   "outputs": [],
   "source": [
    "def adds(a,b):\n",
    "    print(f'a={a}; b={b}')"
   ]
  },
  {
   "cell_type": "code",
   "execution_count": 11,
   "metadata": {},
   "outputs": [
    {
     "name": "stdout",
     "output_type": "stream",
     "text": [
      "a=3; b=2\n"
     ]
    }
   ],
   "source": [
    "adds(3,2)"
   ]
  },
  {
   "cell_type": "code",
   "execution_count": 27,
   "metadata": {},
   "outputs": [],
   "source": [
    "class Dog:\n",
    "\tkind = ['a']\n",
    "\tdef __init__(self, name):\n",
    "\t\tself.name = name"
   ]
  },
  {
   "cell_type": "code",
   "execution_count": 28,
   "metadata": {},
   "outputs": [],
   "source": [
    "dog1=Dog('a')\n",
    "dog2=Dog('b')\n"
   ]
  },
  {
   "cell_type": "code",
   "execution_count": 26,
   "metadata": {},
   "outputs": [
    {
     "name": "stdout",
     "output_type": "stream",
     "text": [
      "['a']\n",
      "['a']\n",
      "['a']\n",
      "['a', 'special']\n",
      "['a', 'special']\n"
     ]
    }
   ],
   "source": [
    "print(Dog.kind)  # 输出 'normal'\n",
    "d1 = Dog('Fido')\n",
    "print(d1.kind)  # 输出 'normal'\n",
    "d2 = Dog('Buddy')\n",
    "print(d2.kind)  # 输出 'normal'\n",
    "Dog.kind.append('special')\n",
    "print(d1.kind)  # 输出 'special'\n",
    "print(d2.kind)  # 输出 'special'"
   ]
  },
  {
   "cell_type": "code",
   "execution_count": 31,
   "metadata": {},
   "outputs": [
    {
     "data": {
      "text/plain": [
       "['a', 'b']"
      ]
     },
     "execution_count": 31,
     "metadata": {},
     "output_type": "execute_result"
    }
   ],
   "source": [
    "dog1.kind"
   ]
  },
  {
   "cell_type": "code",
   "execution_count": 29,
   "metadata": {},
   "outputs": [],
   "source": [
    "\n",
    "dog2.kind.append('b')"
   ]
  },
  {
   "cell_type": "code",
   "execution_count": 30,
   "metadata": {},
   "outputs": [
    {
     "data": {
      "text/plain": [
       "['a', 'b']"
      ]
     },
     "execution_count": 30,
     "metadata": {},
     "output_type": "execute_result"
    }
   ],
   "source": [
    "dog2.kind"
   ]
  },
  {
   "cell_type": "code",
   "execution_count": 29,
   "metadata": {},
   "outputs": [],
   "source": [
    "from hookio import FuncArgs,Context,Flow\n",
    "import asyncio\n",
    "\n",
    "async def main_func(x,y, context:Context[dict]):\n",
    "        context.data['params']={'x':x, 'y':y}\n",
    "        result=x/y\n",
    "        print('main get result, but block 2s')\n",
    "        await asyncio.sleep(2)\n",
    "        context.data['result']=result\n",
    "        print('main finished')\n",
    "        return result\n",
    "    \n",
    "async def on_start(msg:int, context:Context[dict]):\n",
    "    print(f'start: time:{msg}; ')\n",
    "    await asyncio.sleep(2)\n",
    "    print(f'start: context:{context} after 2s')\n",
    "\n",
    "def on_error(msg:str, context:Context[dict]):\n",
    "    print(f'error: {context.info[\"error\"]}; msg from user: {msg} ')\n",
    "\n",
    "def on_end(context:Context[dict]):\n",
    "    print(f'end: get result from context: {context.data.get(\"result\", None)}')\n",
    "    print(f'end: full context: {context}')\n",
    "    \n",
    "flow=Flow[dict](\n",
    "    main_logic = FuncArgs(main_func,(1,2)),\n",
    "    on_start = FuncArgs(on_start,(0,)),\n",
    "    on_end = FuncArgs(on_end,()),\n",
    "    on_error=FuncArgs(on_error,('red',))\n",
    ")\n",
    "\n",
    "await flow.run()"
   ]
  },
  {
   "cell_type": "code",
   "execution_count": 30,
   "metadata": {},
   "outputs": [
    {
     "name": "stdout",
     "output_type": "stream",
     "text": [
      "start: time:0; \n",
      "start: context:Context(data={}, info={}) after 2s\n",
      "main get result, but block 2s\n",
      "main finished\n",
      "end: get result from context: 0.5\n",
      "end: full context: Context(data={'params': {'x': 1, 'y': 2}, 'result': 0.5}, info={})\n"
     ]
    }
   ],
   "source": [
    "await flow.run()"
   ]
  },
  {
   "cell_type": "code",
   "execution_count": 34,
   "metadata": {},
   "outputs": [
    {
     "name": "stdout",
     "output_type": "stream",
     "text": [
      "start: time:0; \n",
      "start: context:Context(data={}, info={}) after 2s\n",
      "error: division by zero; msg from user: red \n",
      "end: get result from context: None\n",
      "end: full context: Context(data={'params': {'x': 1, 'y': 0}}, info={'error': ZeroDivisionError('division by zero')})\n"
     ]
    }
   ],
   "source": [
    "from hookio import FuncArgs,Context,Flow\n",
    "import time\n",
    "\n",
    "def main_func(x,y, context:Context[dict]):\n",
    "        context.data['params']={'x':x, 'y':y}\n",
    "        result=x/y\n",
    "        print('main get result, but block 2s')\n",
    "        time.sleep(2)\n",
    "        context.data['result']=result\n",
    "        print('main finished')\n",
    "        return result\n",
    "    \n",
    "def on_start(msg:int, context:Context[dict]):\n",
    "    print(f'start: time:{msg}; ')\n",
    "    time.sleep(2)\n",
    "    print(f'start: context:{context} after 2s')\n",
    "\n",
    "def on_error(msg:str, context:Context[dict]):\n",
    "    print(f'error: {context.info[\"error\"]}; msg from user: {msg} ')\n",
    "\n",
    "def on_end(context:Context[dict]):\n",
    "    print(f'end: get result from context: {context.data.get(\"result\", None)}')\n",
    "    print(f'end: full context: {context}')\n",
    "    \n",
    "flow=Flow[dict](\n",
    "    main_logic = FuncArgs(main_func,(1,0)),\n",
    "    on_start = FuncArgs(on_start,(0,)),\n",
    "    on_end = FuncArgs(on_end,()),\n",
    "    on_error=FuncArgs(on_error,('red',))\n",
    ")\n",
    "\n",
    "flow.safe_run()"
   ]
  },
  {
   "cell_type": "code",
   "execution_count": null,
   "metadata": {},
   "outputs": [],
   "source": []
  },
  {
   "cell_type": "code",
   "execution_count": null,
   "metadata": {},
   "outputs": [],
   "source": []
  },
  {
   "cell_type": "code",
   "execution_count": null,
   "metadata": {},
   "outputs": [],
   "source": []
  }
 ],
 "metadata": {
  "kernelspec": {
   "display_name": "base",
   "language": "python",
   "name": "python3"
  },
  "language_info": {
   "codemirror_mode": {
    "name": "ipython",
    "version": 3
   },
   "file_extension": ".py",
   "mimetype": "text/x-python",
   "name": "python",
   "nbconvert_exporter": "python",
   "pygments_lexer": "ipython3",
   "version": "3.10.13"
  }
 },
 "nbformat": 4,
 "nbformat_minor": 2
}
