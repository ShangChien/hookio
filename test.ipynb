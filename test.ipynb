{
 "cells": [
  {
   "cell_type": "code",
   "execution_count": 10,
   "metadata": {},
   "outputs": [],
   "source": [
    "def adds(a,b):\n",
    "    print(f'a={a}; b={b}')"
   ]
  },
  {
   "cell_type": "code",
   "execution_count": 11,
   "metadata": {},
   "outputs": [
    {
     "name": "stdout",
     "output_type": "stream",
     "text": [
      "a=3; b=2\n"
     ]
    }
   ],
   "source": [
    "adds(3,2)"
   ]
  },
  {
   "cell_type": "code",
   "execution_count": 27,
   "metadata": {},
   "outputs": [],
   "source": [
    "class Dog:\n",
    "\tkind = ['a']\n",
    "\tdef __init__(self, name:str):\n",
    "\t\tself.name = name"
   ]
  },
  {
   "cell_type": "code",
   "execution_count": 35,
   "metadata": {},
   "outputs": [],
   "source": [
    "from dataclasses import dataclass\n",
    "@dataclass\n",
    "class Hooks:\n",
    "    pass"
   ]
  },
  {
   "cell_type": "code",
   "execution_count": 36,
   "metadata": {},
   "outputs": [],
   "source": [
    "hook=Hooks()"
   ]
  },
  {
   "cell_type": "code",
   "execution_count": 40,
   "metadata": {},
   "outputs": [
    {
     "data": {
      "text/plain": [
       "'dd'"
      ]
     },
     "execution_count": 40,
     "metadata": {},
     "output_type": "execute_result"
    }
   ],
   "source": [
    "setattr(hook,'ss','dd')\n",
    "hook.ss"
   ]
  },
  {
   "cell_type": "code",
   "execution_count": 1,
   "metadata": {},
   "outputs": [],
   "source": [
    "\n",
    "class Hook:\n",
    "    a:str\n",
    "    c:int\n",
    "\n",
    "class MyHook(Hook):\n",
    "    hook_one:str|None\n",
    "    hook_two:int"
   ]
  },
  {
   "cell_type": "code",
   "execution_count": 6,
   "metadata": {},
   "outputs": [
    {
     "data": {
      "text/plain": [
       "'s'"
      ]
     },
     "execution_count": 6,
     "metadata": {},
     "output_type": "execute_result"
    }
   ],
   "source": [
    "a=MyHook()\n",
    "a.hook_one"
   ]
  },
  {
   "cell_type": "code",
   "execution_count": 1,
   "metadata": {},
   "outputs": [
    {
     "ename": "NameError",
     "evalue": "name 'Dog' is not defined",
     "output_type": "error",
     "traceback": [
      "\u001b[0;31m---------------------------------------------------------------------------\u001b[0m",
      "\u001b[0;31mNameError\u001b[0m                                 Traceback (most recent call last)",
      "Cell \u001b[0;32mIn[1], line 1\u001b[0m\n\u001b[0;32m----> 1\u001b[0m dog1\u001b[38;5;241m=\u001b[39m\u001b[43mDog\u001b[49m(\u001b[38;5;241m5\u001b[39m)\n\u001b[1;32m      2\u001b[0m dog2\u001b[38;5;241m=\u001b[39mDog(\u001b[38;5;124m'\u001b[39m\u001b[38;5;124mb\u001b[39m\u001b[38;5;124m'\u001b[39m)\n",
      "\u001b[0;31mNameError\u001b[0m: name 'Dog' is not defined"
     ]
    }
   ],
   "source": [
    "dog1=Dog(5)\n",
    "dog2=Dog('b')\n"
   ]
  },
  {
   "cell_type": "code",
   "execution_count": 26,
   "metadata": {},
   "outputs": [
    {
     "name": "stdout",
     "output_type": "stream",
     "text": [
      "['a']\n",
      "['a']\n",
      "['a']\n",
      "['a', 'special']\n",
      "['a', 'special']\n"
     ]
    }
   ],
   "source": [
    "print(Dog.kind)  # 输出 'normal'\n",
    "d1 = Dog('Fido')\n",
    "print(d1.kind)  # 输出 'normal'\n",
    "d2 = Dog('Buddy')\n",
    "print(d2.kind)  # 输出 'normal'\n",
    "Dog.kind.append('special')\n",
    "print(d1.kind)  # 输出 'special'\n",
    "print(d2.kind)  # 输出 'special'"
   ]
  },
  {
   "cell_type": "code",
   "execution_count": 31,
   "metadata": {},
   "outputs": [
    {
     "data": {
      "text/plain": [
       "['a', 'b']"
      ]
     },
     "execution_count": 31,
     "metadata": {},
     "output_type": "execute_result"
    }
   ],
   "source": [
    "dog1.kind"
   ]
  },
  {
   "cell_type": "code",
   "execution_count": 29,
   "metadata": {},
   "outputs": [],
   "source": [
    "\n",
    "dog2.kind.append('b')"
   ]
  },
  {
   "cell_type": "code",
   "execution_count": 30,
   "metadata": {},
   "outputs": [
    {
     "data": {
      "text/plain": [
       "['a', 'b']"
      ]
     },
     "execution_count": 30,
     "metadata": {},
     "output_type": "execute_result"
    }
   ],
   "source": [
    "dog2.kind"
   ]
  },
  {
   "cell_type": "code",
   "execution_count": 29,
   "metadata": {},
   "outputs": [],
   "source": [
    "from hookio import FuncArgs,Context,Flow\n",
    "import asyncio\n",
    "\n",
    "async def main_func(x,y, context:Context[dict]):\n",
    "        context.data['params']={'x':x, 'y':y}\n",
    "        result=x/y\n",
    "        print('main get result, but block 2s')\n",
    "        await asyncio.sleep(2)\n",
    "        context.data['result']=result\n",
    "        print('main finished')\n",
    "        return result\n",
    "    \n",
    "async def on_start(msg:int, context:Context[dict]):\n",
    "    print(f'start: time:{msg}; ')\n",
    "    await asyncio.sleep(2)\n",
    "    print(f'start: context:{context} after 2s')\n",
    "\n",
    "def on_error(msg:str, context:Context[dict]):\n",
    "    print(f'error: {context.info[\"error\"]}; msg from user: {msg} ')\n",
    "\n",
    "def on_end(context:Context[dict]):\n",
    "    print(f'end: get result from context: {context.data.get(\"result\", None)}')\n",
    "    print(f'end: full context: {context}')\n",
    "    \n",
    "flow=Flow[dict](\n",
    "    main_logic = FuncArgs(main_func,(1,2)),\n",
    "    on_start = FuncArgs(on_start,(0,)),\n",
    "    on_end = FuncArgs(on_end,()),\n",
    "    on_error=FuncArgs(on_error,('red',))\n",
    ")\n",
    "\n",
    "await flow.run()"
   ]
  },
  {
   "cell_type": "code",
   "execution_count": 30,
   "metadata": {},
   "outputs": [
    {
     "name": "stdout",
     "output_type": "stream",
     "text": [
      "start: time:0; \n",
      "start: context:Context(data={}, info={}) after 2s\n",
      "main get result, but block 2s\n",
      "main finished\n",
      "end: get result from context: 0.5\n",
      "end: full context: Context(data={'params': {'x': 1, 'y': 2}, 'result': 0.5}, info={})\n"
     ]
    }
   ],
   "source": [
    "await flow.run()"
   ]
  },
  {
   "cell_type": "code",
   "execution_count": 34,
   "metadata": {},
   "outputs": [
    {
     "name": "stdout",
     "output_type": "stream",
     "text": [
      "start: time:0; \n",
      "start: context:Context(data={}, info={}) after 2s\n",
      "error: division by zero; msg from user: red \n",
      "end: get result from context: None\n",
      "end: full context: Context(data={'params': {'x': 1, 'y': 0}}, info={'error': ZeroDivisionError('division by zero')})\n"
     ]
    }
   ],
   "source": [
    "from hookio import FuncArgs,Context,Flow\n",
    "import time\n",
    "\n",
    "def main_func(x,y, context:Context[dict]):\n",
    "        context.data['params']={'x':x, 'y':y}\n",
    "        result=x/y\n",
    "        print('main get result, but block 2s')\n",
    "        time.sleep(2)\n",
    "        context.data['result']=result\n",
    "        print('main finished')\n",
    "        return result\n",
    "    \n",
    "def on_start(msg:int, context:Context[dict]):\n",
    "    print(f'start: time:{msg}; ')\n",
    "    time.sleep(2)\n",
    "    print(f'start: context:{context} after 2s')\n",
    "\n",
    "def on_error(msg:str, context:Context[dict]):\n",
    "    print(f'error: {context.info[\"error\"]}; msg from user: {msg} ')\n",
    "\n",
    "def on_end(context:Context[dict]):\n",
    "    print(f'end: get result from context: {context.data.get(\"result\", None)}')\n",
    "    print(f'end: full context: {context}')\n",
    "    \n",
    "flow=Flow[dict](\n",
    "    main_logic = FuncArgs(main_func,(1,0)),\n",
    "    on_start = FuncArgs(on_start,(0,)),\n",
    "    on_end = FuncArgs(on_end,()),\n",
    "    on_error=FuncArgs(on_error,('red',))\n",
    ")\n",
    "\n",
    "flow.safe_run()"
   ]
  },
  {
   "cell_type": "code",
   "execution_count": null,
   "metadata": {},
   "outputs": [],
   "source": []
  },
  {
   "cell_type": "code",
   "execution_count": null,
   "metadata": {},
   "outputs": [],
   "source": [
    "import re\n",
    "\n",
    "# 定义正则表达式\n",
    "pattern = r'^[\\xe4\\xb8\\x80-\\xe9\\xbe\\xa50-9a-zA-Z_-]{1,200}$'\n",
    "\n",
    "# 测试字符串\n",
    "test_strings = [\n",
    "    \"有效字符串123\",  # 示例有效字符串\n",
    "    \"无效字符串！\",    # 示例无效字符串，包含特殊字符\n",
    "    \"abc-123\",        # 示例有效字符串\n",
    "    \"一二三四\",        # 示例有效字符串，包含中文\n",
    "]\n",
    "\n",
    "# 验证函数\n",
    "def validate_string(s):\n",
    "    if re.match(pattern, s):\n",
    "        return True\n",
    "    return False\n",
    "\n",
    "# 测试验证\n",
    "for s in test_strings:\n",
    "    result = validate_string(s)\n",
    "    print(f\"字符串 '{s}' 验证结果: {result}\")"
   ]
  },
  {
   "cell_type": "code",
   "execution_count": 10,
   "metadata": {},
   "outputs": [],
   "source": [
    "def args(a,b):\n",
    "    print(f'ss{a}{b}')"
   ]
  },
  {
   "cell_type": "code",
   "execution_count": 12,
   "metadata": {},
   "outputs": [
    {
     "ename": "TypeError",
     "evalue": "args() got an unexpected keyword argument 'c'",
     "output_type": "error",
     "traceback": [
      "\u001b[0;31m---------------------------------------------------------------------------\u001b[0m",
      "\u001b[0;31mTypeError\u001b[0m                                 Traceback (most recent call last)",
      "Cell \u001b[0;32mIn[12], line 1\u001b[0m\n\u001b[0;32m----> 1\u001b[0m \u001b[43margs\u001b[49m\u001b[43m(\u001b[49m\u001b[38;5;241;43m*\u001b[39;49m\u001b[38;5;241;43m*\u001b[39;49m\u001b[43m{\u001b[49m\u001b[38;5;124;43m'\u001b[39;49m\u001b[38;5;124;43ma\u001b[39;49m\u001b[38;5;124;43m'\u001b[39;49m\u001b[43m:\u001b[49m\u001b[38;5;124;43m'\u001b[39;49m\u001b[38;5;124;43ma\u001b[39;49m\u001b[38;5;124;43m'\u001b[39;49m\u001b[43m,\u001b[49m\u001b[38;5;124;43m'\u001b[39;49m\u001b[38;5;124;43mb\u001b[39;49m\u001b[38;5;124;43m'\u001b[39;49m\u001b[43m:\u001b[49m\u001b[38;5;124;43m'\u001b[39;49m\u001b[38;5;124;43mb\u001b[39;49m\u001b[38;5;124;43m'\u001b[39;49m\u001b[43m,\u001b[49m\u001b[38;5;124;43m'\u001b[39;49m\u001b[38;5;124;43mc\u001b[39;49m\u001b[38;5;124;43m'\u001b[39;49m\u001b[43m:\u001b[49m\u001b[38;5;124;43m'\u001b[39;49m\u001b[38;5;124;43ms\u001b[39;49m\u001b[38;5;124;43m'\u001b[39;49m\u001b[43m}\u001b[49m\u001b[43m)\u001b[49m\n",
      "\u001b[0;31mTypeError\u001b[0m: args() got an unexpected keyword argument 'c'"
     ]
    }
   ],
   "source": [
    "args(**{'a':'a','b':'b','c':'s'})"
   ]
  },
  {
   "cell_type": "code",
   "execution_count": null,
   "metadata": {},
   "outputs": [],
   "source": []
  },
  {
   "cell_type": "code",
   "execution_count": null,
   "metadata": {},
   "outputs": [],
   "source": []
  },
  {
   "cell_type": "code",
   "execution_count": null,
   "metadata": {},
   "outputs": [],
   "source": []
  }
 ],
 "metadata": {
  "kernelspec": {
   "display_name": "base",
   "language": "python",
   "name": "python3"
  },
  "language_info": {
   "codemirror_mode": {
    "name": "ipython",
    "version": 3
   },
   "file_extension": ".py",
   "mimetype": "text/x-python",
   "name": "python",
   "nbconvert_exporter": "python",
   "pygments_lexer": "ipython3",
   "version": "3.10.13"
  }
 },
 "nbformat": 4,
 "nbformat_minor": 2
}
